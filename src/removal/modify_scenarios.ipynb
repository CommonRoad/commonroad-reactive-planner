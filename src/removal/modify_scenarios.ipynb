{
 "cells": [
  {
   "cell_type": "code",
   "execution_count": 33,
   "metadata": {
    "collapsed": true
   },
   "outputs": [],
   "source": [
    "import os\n",
    "import matplotlib.pyplot as plt\n",
    "\n",
    "from commonroad.visualization.draw_dispatch_cr import draw_object\n",
    "from commonroad.common.file_reader import CommonRoadFileReader\n",
    "\n",
    "filename = '/home/christina/cps_project/Ford/test_scenarios/USA_US101-1_1_T-1.xml'\n",
    "\n",
    "scenario, planning_problems = CommonRoadFileReader(filename).open()\n",
    "\n",
    "plt.figure(figsize=(25, 10))\n",
    "draw_object(scenario, draw_params={'scenario': {'lanelet_network': {'lanelet': {'show_label': True}}}})\n",
    "draw_object(planning_problems)\n",
    "plt.gca().set_aspect('equal')\n",
    "plt.show()"
   ]
  },
  {
   "cell_type": "code",
   "execution_count": 34,
   "metadata": {},
   "outputs": [],
   "source": [
    "# remove obstacle\n",
    "scenario.remove_obstacle(scenario.obstacle_by_id(489))"
   ]
  },
  {
   "cell_type": "code",
   "execution_count": 35,
   "metadata": {},
   "outputs": [],
   "source": [
    "# move initial state\n",
    "planning_problems.planning_problem_dict[482].initial_state = planning_problems.planning_problem_dict[482].initial_state.translate_rotate([-20.0, 0.2], 0.0)"
   ]
  },
  {
   "cell_type": "code",
   "execution_count": 36,
   "metadata": {},
   "outputs": [],
   "source": [
    "# plot scenario\n",
    "\n",
    "plt.figure(figsize=(25, 10))\n",
    "draw_object(scenario, draw_params={'scenario': {'lanelet_network': {'lanelet': {'show_label': True}}}})\n",
    "draw_object(planning_problems)\n",
    "plt.gca().set_aspect('equal')\n",
    "plt.show()"
   ]
  },
  {
   "cell_type": "code",
   "execution_count": 30,
   "metadata": {},
   "outputs": [],
   "source": [
    "# change init velocity\n",
    "planning_problems.planning_problem_dict[482].initial_state.velocity -= 2"
   ]
  },
  {
   "cell_type": "code",
   "execution_count": 2,
   "metadata": {},
   "outputs": [],
   "source": [
    "# Add another planning problem\n",
    "from commonroad.planning.planning_problem import PlanningProblem, PlanningProblemSet\n",
    "from commonroad.planning.goal import GoalRegion\n",
    "from commonroad.geometry.shape import Rectangle\n",
    "from commonroad.scenario.trajectory import State\n",
    "from commonroad.common.util import Interval\n",
    "\n",
    "\n",
    "goal_state_list = list()\n",
    "# ------------- Create the define goal states -------------\n",
    "# length, width, center = [x,y], orientation\n",
    "goal_state_1 = State(position=Rectangle(20, 3.4, [100.0, -5], 0.005),\n",
    "                     velocity=Interval(0.0, 5.0),\n",
    "                     time_idx=Interval(0.0/scenario.dt, 10.0/scenario.dt))\n",
    "goal_state_list.append(goal_state_1)\n",
    "\n",
    "new_goal = GoalRegion(goal_state_list)\n",
    "\n",
    "# ------------- Create the new planning problem -------------\n",
    "initial_state = list(planning_problems.planning_problem_dict.values())[0].initial_state\n",
    "new_planning_problem = PlanningProblem(planning_problem_id=9, \n",
    "                                       initial_state=initial_state, \n",
    "                                       goal_region=new_goal)\n",
    "\n",
    "\n",
    "# Add new planning problem to the planning task\n",
    "new_planning_problem_set = PlanningProblemSet([new_planning_problem])\n",
    "\n",
    "\n",
    "# Plot the new scenario\n",
    "plt.figure(figsize=(25, 10))\n",
    "draw_object(scenario)\n",
    "draw_object(new_planning_problem_set)\n",
    "plt.gca().set_aspect('equal')\n",
    "plt.show()\n"
   ]
  },
  {
   "cell_type": "code",
   "execution_count": 37,
   "metadata": {},
   "outputs": [
    {
     "name": "stdout",
     "output_type": "stream",
     "text": [
      "Replace file /home/christina/cps_project/Ford/test_scenarios/USA_US101-1_1_T-1_modified.xml\n"
     ]
    }
   ],
   "source": [
    "from commonroad.common.file_writer import CommonRoadFileWriter\n",
    "from commonroad.common.file_writer import OverwriteExistingFile\n",
    "\n",
    "fw = CommonRoadFileWriter(scenario, planning_problems, \"\", \"\", \"modified\", \"fail_safe_planning\")\n",
    "\n",
    "filename = os.path.splitext(filename)[0] + '_modified.xml'\n",
    "\n",
    "fw.write_to_file(filename, OverwriteExistingFile.ALWAYS)"
   ]
  },
  {
   "cell_type": "code",
   "execution_count": null,
   "metadata": {},
   "outputs": [],
   "source": []
  }
 ],
 "metadata": {
  "kernelspec": {
   "display_name": "Python 2",
   "language": "python",
   "name": "python2"
  },
  "language_info": {
   "codemirror_mode": {
    "name": "ipython",
    "version": 2
   },
   "file_extension": ".py",
   "mimetype": "text/x-python",
   "name": "python",
   "nbconvert_exporter": "python",
   "pygments_lexer": "ipython2",
   "version": "2.7.6"
  }
 },
 "nbformat": 4,
 "nbformat_minor": 0
}
