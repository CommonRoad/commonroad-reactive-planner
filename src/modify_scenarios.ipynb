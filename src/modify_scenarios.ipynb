{
 "cells": [
  {
   "cell_type": "code",
   "execution_count": 1,
   "metadata": {},
   "outputs": [
    {
     "ename": "FileNotFoundError",
     "evalue": "[Errno 2] No such file or directory: '/home/christina/cps_project/Ford/test_scenarios/USA_US101-1_1_T-1.xml'",
     "output_type": "error",
     "traceback": [
      "\u001b[0;31m---------------------------------------------------------------------------\u001b[0m",
      "\u001b[0;31mFileNotFoundError\u001b[0m                         Traceback (most recent call last)",
      "\u001b[0;32m<ipython-input-1-107516a21ed6>\u001b[0m in \u001b[0;36m<module>\u001b[0;34m\u001b[0m\n\u001b[1;32m      7\u001b[0m \u001b[0mfilename\u001b[0m \u001b[0;34m=\u001b[0m \u001b[0;34m'/home/christina/cps_project/Ford/test_scenarios/USA_US101-1_1_T-1.xml'\u001b[0m\u001b[0;34m\u001b[0m\u001b[0;34m\u001b[0m\u001b[0m\n\u001b[1;32m      8\u001b[0m \u001b[0;34m\u001b[0m\u001b[0m\n\u001b[0;32m----> 9\u001b[0;31m \u001b[0mscenario\u001b[0m\u001b[0;34m,\u001b[0m \u001b[0mplanning_problems\u001b[0m \u001b[0;34m=\u001b[0m \u001b[0mCommonRoadFileReader\u001b[0m\u001b[0;34m(\u001b[0m\u001b[0mfilename\u001b[0m\u001b[0;34m)\u001b[0m\u001b[0;34m.\u001b[0m\u001b[0mopen\u001b[0m\u001b[0;34m(\u001b[0m\u001b[0;34m)\u001b[0m\u001b[0;34m\u001b[0m\u001b[0;34m\u001b[0m\u001b[0m\n\u001b[0m\u001b[1;32m     10\u001b[0m \u001b[0;34m\u001b[0m\u001b[0m\n\u001b[1;32m     11\u001b[0m \u001b[0mplt\u001b[0m\u001b[0;34m.\u001b[0m\u001b[0mfigure\u001b[0m\u001b[0;34m(\u001b[0m\u001b[0mfigsize\u001b[0m\u001b[0;34m=\u001b[0m\u001b[0;34m(\u001b[0m\u001b[0;36m25\u001b[0m\u001b[0;34m,\u001b[0m \u001b[0;36m10\u001b[0m\u001b[0;34m)\u001b[0m\u001b[0;34m)\u001b[0m\u001b[0;34m\u001b[0m\u001b[0;34m\u001b[0m\u001b[0m\n",
      "\u001b[0;32m~/anaconda3/envs/commonroad-py36/lib/python3.6/site-packages/commonroad/common/file_reader.py\u001b[0m in \u001b[0;36mopen\u001b[0;34m(self)\u001b[0m\n\u001b[1;32m     62\u001b[0m         \u001b[0mcontaining\u001b[0m \u001b[0mthe\u001b[0m \u001b[0mplanning\u001b[0m \u001b[0mproblems\u001b[0m\u001b[0;34m-\u001b[0m\u001b[0;34m-\u001b[0m\u001b[0;34m-\u001b[0m\u001b[0minitial\u001b[0m \u001b[0mstates\u001b[0m \u001b[0;32mand\u001b[0m \u001b[0mgoal\u001b[0m \u001b[0mregions\u001b[0m\u001b[0;34m-\u001b[0m\u001b[0;34m-\u001b[0m\u001b[0;32mfor\u001b[0m \u001b[0mall\u001b[0m \u001b[0mego\u001b[0m \u001b[0mvehicles\u001b[0m\u001b[0;34m.\u001b[0m\u001b[0;34m\u001b[0m\u001b[0;34m\u001b[0m\u001b[0m\n\u001b[1;32m     63\u001b[0m         \"\"\"\n\u001b[0;32m---> 64\u001b[0;31m         \u001b[0mself\u001b[0m\u001b[0;34m.\u001b[0m\u001b[0m_read_header\u001b[0m\u001b[0;34m(\u001b[0m\u001b[0;34m)\u001b[0m\u001b[0;34m\u001b[0m\u001b[0;34m\u001b[0m\u001b[0m\n\u001b[0m\u001b[1;32m     65\u001b[0m         \u001b[0mscenario\u001b[0m \u001b[0;34m=\u001b[0m \u001b[0mself\u001b[0m\u001b[0;34m.\u001b[0m\u001b[0m_open_scenario\u001b[0m\u001b[0;34m(\u001b[0m\u001b[0;34m)\u001b[0m\u001b[0;34m\u001b[0m\u001b[0;34m\u001b[0m\u001b[0m\n\u001b[1;32m     66\u001b[0m         \u001b[0mplanning_problem_set\u001b[0m \u001b[0;34m=\u001b[0m \u001b[0mself\u001b[0m\u001b[0;34m.\u001b[0m\u001b[0m_open_planning_problem_set\u001b[0m\u001b[0;34m(\u001b[0m\u001b[0mscenario\u001b[0m\u001b[0;34m.\u001b[0m\u001b[0mlanelet_network\u001b[0m\u001b[0;34m)\u001b[0m\u001b[0;34m\u001b[0m\u001b[0;34m\u001b[0m\u001b[0m\n",
      "\u001b[0;32m~/anaconda3/envs/commonroad-py36/lib/python3.6/site-packages/commonroad/common/file_reader.py\u001b[0m in \u001b[0;36m_read_header\u001b[0;34m(self)\u001b[0m\n\u001b[1;32m     99\u001b[0m         \"\"\" Parses the CommonRoad XML-file into element tree; reads the global time step size of the time-discrete\n\u001b[1;32m    100\u001b[0m         scenario and the CommonRoad benchmark ID.\"\"\"\n\u001b[0;32m--> 101\u001b[0;31m         \u001b[0mself\u001b[0m\u001b[0;34m.\u001b[0m\u001b[0m_parse_file\u001b[0m\u001b[0;34m(\u001b[0m\u001b[0;34m)\u001b[0m\u001b[0;34m\u001b[0m\u001b[0;34m\u001b[0m\u001b[0m\n\u001b[0m\u001b[1;32m    102\u001b[0m         \u001b[0mcommonroad_version\u001b[0m \u001b[0;34m=\u001b[0m \u001b[0mself\u001b[0m\u001b[0;34m.\u001b[0m\u001b[0m_get_commonroad_version\u001b[0m\u001b[0;34m(\u001b[0m\u001b[0;34m)\u001b[0m\u001b[0;34m\u001b[0m\u001b[0;34m\u001b[0m\u001b[0m\n\u001b[1;32m    103\u001b[0m         \u001b[0;32massert\u001b[0m \u001b[0mcommonroad_version\u001b[0m \u001b[0;34m==\u001b[0m \u001b[0mCOMMONROAD_VERSION\u001b[0m\u001b[0;34m,\u001b[0m \u001b[0;34m'<CommonRoadFileReader/_read_header>: CommonRoad version of '\u001b[0m\u001b[0;31m \u001b[0m\u001b[0;31m\\\u001b[0m\u001b[0;34m\u001b[0m\u001b[0;34m\u001b[0m\u001b[0m\n",
      "\u001b[0;32m~/anaconda3/envs/commonroad-py36/lib/python3.6/site-packages/commonroad/common/file_reader.py\u001b[0m in \u001b[0;36m_parse_file\u001b[0;34m(self)\u001b[0m\n\u001b[1;32m    111\u001b[0m     \u001b[0;32mdef\u001b[0m \u001b[0m_parse_file\u001b[0m\u001b[0;34m(\u001b[0m\u001b[0mself\u001b[0m\u001b[0;34m)\u001b[0m\u001b[0;34m:\u001b[0m\u001b[0;34m\u001b[0m\u001b[0;34m\u001b[0m\u001b[0m\n\u001b[1;32m    112\u001b[0m         \u001b[0;34m\"\"\" Parses the CommonRoad XML-file into element tree.\"\"\"\u001b[0m\u001b[0;34m\u001b[0m\u001b[0;34m\u001b[0m\u001b[0m\n\u001b[0;32m--> 113\u001b[0;31m         \u001b[0mself\u001b[0m\u001b[0;34m.\u001b[0m\u001b[0m_tree\u001b[0m \u001b[0;34m=\u001b[0m \u001b[0mElementTree\u001b[0m\u001b[0;34m.\u001b[0m\u001b[0mparse\u001b[0m\u001b[0;34m(\u001b[0m\u001b[0mself\u001b[0m\u001b[0;34m.\u001b[0m\u001b[0m_filename\u001b[0m\u001b[0;34m)\u001b[0m\u001b[0;34m\u001b[0m\u001b[0;34m\u001b[0m\u001b[0m\n\u001b[0m\u001b[1;32m    114\u001b[0m \u001b[0;34m\u001b[0m\u001b[0m\n\u001b[1;32m    115\u001b[0m     \u001b[0;32mdef\u001b[0m \u001b[0m_get_dt\u001b[0m\u001b[0;34m(\u001b[0m\u001b[0mself\u001b[0m\u001b[0;34m)\u001b[0m \u001b[0;34m->\u001b[0m \u001b[0mfloat\u001b[0m\u001b[0;34m:\u001b[0m\u001b[0;34m\u001b[0m\u001b[0;34m\u001b[0m\u001b[0m\n",
      "\u001b[0;32m~/anaconda3/envs/commonroad-py36/lib/python3.6/xml/etree/ElementTree.py\u001b[0m in \u001b[0;36mparse\u001b[0;34m(source, parser)\u001b[0m\n\u001b[1;32m   1194\u001b[0m     \"\"\"\n\u001b[1;32m   1195\u001b[0m     \u001b[0mtree\u001b[0m \u001b[0;34m=\u001b[0m \u001b[0mElementTree\u001b[0m\u001b[0;34m(\u001b[0m\u001b[0;34m)\u001b[0m\u001b[0;34m\u001b[0m\u001b[0;34m\u001b[0m\u001b[0m\n\u001b[0;32m-> 1196\u001b[0;31m     \u001b[0mtree\u001b[0m\u001b[0;34m.\u001b[0m\u001b[0mparse\u001b[0m\u001b[0;34m(\u001b[0m\u001b[0msource\u001b[0m\u001b[0;34m,\u001b[0m \u001b[0mparser\u001b[0m\u001b[0;34m)\u001b[0m\u001b[0;34m\u001b[0m\u001b[0;34m\u001b[0m\u001b[0m\n\u001b[0m\u001b[1;32m   1197\u001b[0m     \u001b[0;32mreturn\u001b[0m \u001b[0mtree\u001b[0m\u001b[0;34m\u001b[0m\u001b[0;34m\u001b[0m\u001b[0m\n\u001b[1;32m   1198\u001b[0m \u001b[0;34m\u001b[0m\u001b[0m\n",
      "\u001b[0;32m~/anaconda3/envs/commonroad-py36/lib/python3.6/xml/etree/ElementTree.py\u001b[0m in \u001b[0;36mparse\u001b[0;34m(self, source, parser)\u001b[0m\n\u001b[1;32m    584\u001b[0m         \u001b[0mclose_source\u001b[0m \u001b[0;34m=\u001b[0m \u001b[0;32mFalse\u001b[0m\u001b[0;34m\u001b[0m\u001b[0;34m\u001b[0m\u001b[0m\n\u001b[1;32m    585\u001b[0m         \u001b[0;32mif\u001b[0m \u001b[0;32mnot\u001b[0m \u001b[0mhasattr\u001b[0m\u001b[0;34m(\u001b[0m\u001b[0msource\u001b[0m\u001b[0;34m,\u001b[0m \u001b[0;34m\"read\"\u001b[0m\u001b[0;34m)\u001b[0m\u001b[0;34m:\u001b[0m\u001b[0;34m\u001b[0m\u001b[0;34m\u001b[0m\u001b[0m\n\u001b[0;32m--> 586\u001b[0;31m             \u001b[0msource\u001b[0m \u001b[0;34m=\u001b[0m \u001b[0mopen\u001b[0m\u001b[0;34m(\u001b[0m\u001b[0msource\u001b[0m\u001b[0;34m,\u001b[0m \u001b[0;34m\"rb\"\u001b[0m\u001b[0;34m)\u001b[0m\u001b[0;34m\u001b[0m\u001b[0;34m\u001b[0m\u001b[0m\n\u001b[0m\u001b[1;32m    587\u001b[0m             \u001b[0mclose_source\u001b[0m \u001b[0;34m=\u001b[0m \u001b[0;32mTrue\u001b[0m\u001b[0;34m\u001b[0m\u001b[0;34m\u001b[0m\u001b[0m\n\u001b[1;32m    588\u001b[0m         \u001b[0;32mtry\u001b[0m\u001b[0;34m:\u001b[0m\u001b[0;34m\u001b[0m\u001b[0;34m\u001b[0m\u001b[0m\n",
      "\u001b[0;31mFileNotFoundError\u001b[0m: [Errno 2] No such file or directory: '/home/christina/cps_project/Ford/test_scenarios/USA_US101-1_1_T-1.xml'"
     ]
    }
   ],
   "source": [
    "import os\n",
    "import matplotlib.pyplot as plt\n",
    "\n",
    "from commonroad.visualization.draw_dispatch_cr import draw_object\n",
    "from commonroad.common.file_reader import CommonRoadFileReader\n",
    "\n",
    "filename = '/home/christina/cps_project/Ford/test_scenarios/USA_US101-1_1_T-1.xml'\n",
    "\n",
    "scenario, planning_problems = CommonRoadFileReader(filename).open()\n",
    "\n",
    "plt.figure(figsize=(25, 10))\n",
    "draw_object(scenario, draw_params={'scenario': {'lanelet_network': {'lanelet': {'show_label': True}}}})\n",
    "draw_object(planning_problems)\n",
    "plt.gca().set_aspect('equal')\n",
    "plt.show()"
   ]
  },
  {
   "cell_type": "code",
   "execution_count": 34,
   "metadata": {},
   "outputs": [],
   "source": [
    "# remove obstacle\n",
    "scenario.remove_obstacle(scenario.obstacle_by_id(489))"
   ]
  },
  {
   "cell_type": "code",
   "execution_count": 35,
   "metadata": {},
   "outputs": [],
   "source": [
    "# move initial state\n",
    "planning_problems.planning_problem_dict[482].initial_state = planning_problems.planning_problem_dict[482].initial_state.translate_rotate([-20.0, 0.2], 0.0)"
   ]
  },
  {
   "cell_type": "code",
   "execution_count": 36,
   "metadata": {},
   "outputs": [],
   "source": [
    "# plot scenario\n",
    "\n",
    "plt.figure(figsize=(25, 10))\n",
    "draw_object(scenario, draw_params={'scenario': {'lanelet_network': {'lanelet': {'show_label': True}}}})\n",
    "draw_object(planning_problems)\n",
    "plt.gca().set_aspect('equal')\n",
    "plt.show()"
   ]
  },
  {
   "cell_type": "code",
   "execution_count": 30,
   "metadata": {},
   "outputs": [],
   "source": [
    "# change init velocity\n",
    "planning_problems.planning_problem_dict[482].initial_state.velocity -= 2"
   ]
  },
  {
   "cell_type": "code",
   "execution_count": 2,
   "metadata": {},
   "outputs": [],
   "source": [
    "# Add another planning problem\n",
    "from commonroad.planning.planning_problem import PlanningProblem, PlanningProblemSet\n",
    "from commonroad.planning.goal import GoalRegion\n",
    "from commonroad.geometry.shape import Rectangle\n",
    "from commonroad.scenario.trajectory import State\n",
    "from commonroad.common.util import Interval\n",
    "\n",
    "\n",
    "goal_state_list = list()\n",
    "# ------------- Create the define goal states -------------\n",
    "# length, width, center = [x,y], orientation\n",
    "goal_state_1 = State(position=Rectangle(20, 3.4, [100.0, -5], 0.005),\n",
    "                     velocity=Interval(0.0, 5.0),\n",
    "                     time_idx=Interval(0.0/scenario.dt, 10.0/scenario.dt))\n",
    "goal_state_list.append(goal_state_1)\n",
    "\n",
    "new_goal = GoalRegion(goal_state_list)\n",
    "\n",
    "# ------------- Create the new planning problem -------------\n",
    "initial_state = list(planning_problems.planning_problem_dict.values())[0].initial_state\n",
    "new_planning_problem = PlanningProblem(planning_problem_id=9, \n",
    "                                       initial_state=initial_state, \n",
    "                                       goal_region=new_goal)\n",
    "\n",
    "\n",
    "# Add new planning problem to the planning task\n",
    "new_planning_problem_set = PlanningProblemSet([new_planning_problem])\n",
    "\n",
    "\n",
    "# Plot the new scenario\n",
    "plt.figure(figsize=(25, 10))\n",
    "draw_object(scenario)\n",
    "draw_object(new_planning_problem_set)\n",
    "plt.gca().set_aspect('equal')\n",
    "plt.show()\n"
   ]
  },
  {
   "cell_type": "code",
   "execution_count": 37,
   "metadata": {},
   "outputs": [
    {
     "name": "stdout",
     "output_type": "stream",
     "text": [
      "Replace file /home/christina/cps_project/Ford/test_scenarios/USA_US101-1_1_T-1_modified.xml\n"
     ]
    }
   ],
   "source": [
    "from commonroad.common.file_writer import CommonRoadFileWriter\n",
    "from commonroad.common.file_writer import OverwriteExistingFile\n",
    "\n",
    "fw = CommonRoadFileWriter(scenario, planning_problems, \"\", \"\", \"modified\", \"fail_safe_planning\")\n",
    "\n",
    "filename = os.path.splitext(filename)[0] + '_modified.xml'\n",
    "\n",
    "fw.write_to_file(filename, OverwriteExistingFile.ALWAYS)"
   ]
  },
  {
   "cell_type": "code",
   "execution_count": null,
   "metadata": {},
   "outputs": [],
   "source": []
  }
 ],
 "metadata": {
  "kernelspec": {
   "display_name": "Python 3",
   "language": "python",
   "name": "python3"
  },
  "language_info": {
   "codemirror_mode": {
    "name": "ipython",
    "version": 3
   },
   "file_extension": ".py",
   "mimetype": "text/x-python",
   "name": "python",
   "nbconvert_exporter": "python",
   "pygments_lexer": "ipython3",
   "version": "3.6.8"
  }
 },
 "nbformat": 4,
 "nbformat_minor": 1
}
